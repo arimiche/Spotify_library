{
 "cells": [
  {
   "cell_type": "code",
   "execution_count": 17,
   "metadata": {},
   "outputs": [],
   "source": [
    "import pandas as pd\n",
    "from sklearn.preprocessing import LabelEncoder\n",
    "from datetime import datetime"
   ]
  },
  {
   "cell_type": "markdown",
   "metadata": {},
   "source": [
    "# spotify_data"
   ]
  },
  {
   "cell_type": "markdown",
   "metadata": {},
   "source": [
    "This dataset was extracted from the Spotify platform using the Python library \"Spotipy\", which allows users to access music data provided via APIs. The dataset collected includes about 1 Million tracks with 19 features between 2000 and 2023. Also, there is a total of 61,445 unique artists and 82 genres in the data.\n",
    "\n",
    "This clean data has been prepared and utilized for research purposes. Its significance lies in its potential to unravel patterns and predict song popularity prior to its release. This dataset could be used to create various predictive models with machine-learning/deep-learning techniques.\n",
    "\n",
    "https://www.kaggle.com/datasets/amitanshjoshi/spotify-1million-tracks"
   ]
  },
  {
   "cell_type": "code",
   "execution_count": 18,
   "metadata": {},
   "outputs": [],
   "source": [
    "pd.set_option('display.max_columns', None)"
   ]
  },
  {
   "cell_type": "code",
   "execution_count": 19,
   "metadata": {},
   "outputs": [
    {
     "data": {
      "text/html": [
       "<div>\n",
       "<style scoped>\n",
       "    .dataframe tbody tr th:only-of-type {\n",
       "        vertical-align: middle;\n",
       "    }\n",
       "\n",
       "    .dataframe tbody tr th {\n",
       "        vertical-align: top;\n",
       "    }\n",
       "\n",
       "    .dataframe thead th {\n",
       "        text-align: right;\n",
       "    }\n",
       "</style>\n",
       "<table border=\"1\" class=\"dataframe\">\n",
       "  <thead>\n",
       "    <tr style=\"text-align: right;\">\n",
       "      <th></th>\n",
       "      <th>Unnamed: 0</th>\n",
       "      <th>artist_name</th>\n",
       "      <th>track_name</th>\n",
       "      <th>track_id</th>\n",
       "      <th>popularity</th>\n",
       "      <th>year</th>\n",
       "      <th>genre</th>\n",
       "      <th>danceability</th>\n",
       "      <th>energy</th>\n",
       "      <th>key</th>\n",
       "      <th>loudness</th>\n",
       "      <th>mode</th>\n",
       "      <th>speechiness</th>\n",
       "      <th>acousticness</th>\n",
       "      <th>instrumentalness</th>\n",
       "      <th>liveness</th>\n",
       "      <th>valence</th>\n",
       "      <th>tempo</th>\n",
       "      <th>duration_ms</th>\n",
       "      <th>time_signature</th>\n",
       "    </tr>\n",
       "  </thead>\n",
       "  <tbody>\n",
       "    <tr>\n",
       "      <th>0</th>\n",
       "      <td>589408</td>\n",
       "      <td>Wolfgang Amadeus Mozart</td>\n",
       "      <td>Requiem, K. 626: VIII. Communio: Lux aeterna (...</td>\n",
       "      <td>7Hrce3SEZWI2WntmTas2Oe</td>\n",
       "      <td>0</td>\n",
       "      <td>2023</td>\n",
       "      <td>classical</td>\n",
       "      <td>0.241</td>\n",
       "      <td>0.288</td>\n",
       "      <td>10</td>\n",
       "      <td>-17.974</td>\n",
       "      <td>1</td>\n",
       "      <td>0.0360</td>\n",
       "      <td>0.97500</td>\n",
       "      <td>0.72600</td>\n",
       "      <td>0.086</td>\n",
       "      <td>0.117</td>\n",
       "      <td>96.389</td>\n",
       "      <td>324000</td>\n",
       "      <td>4</td>\n",
       "    </tr>\n",
       "    <tr>\n",
       "      <th>1</th>\n",
       "      <td>1234899</td>\n",
       "      <td>Disko Punks</td>\n",
       "      <td>Punk No Rocker - Muzic Loverz Rock It! Club Remix</td>\n",
       "      <td>3NCWsfcGWPCku2QYmteNBl</td>\n",
       "      <td>0</td>\n",
       "      <td>2008</td>\n",
       "      <td>minimal-techno</td>\n",
       "      <td>0.756</td>\n",
       "      <td>0.656</td>\n",
       "      <td>7</td>\n",
       "      <td>-9.571</td>\n",
       "      <td>1</td>\n",
       "      <td>0.1220</td>\n",
       "      <td>0.00287</td>\n",
       "      <td>0.35200</td>\n",
       "      <td>0.280</td>\n",
       "      <td>0.304</td>\n",
       "      <td>129.982</td>\n",
       "      <td>340400</td>\n",
       "      <td>4</td>\n",
       "    </tr>\n",
       "    <tr>\n",
       "      <th>2</th>\n",
       "      <td>1325753</td>\n",
       "      <td>Robert Glasper</td>\n",
       "      <td>4eva</td>\n",
       "      <td>0vFGIXlsEajsNhGZXzKy3H</td>\n",
       "      <td>14</td>\n",
       "      <td>2009</td>\n",
       "      <td>soul</td>\n",
       "      <td>0.726</td>\n",
       "      <td>0.430</td>\n",
       "      <td>1</td>\n",
       "      <td>-14.665</td>\n",
       "      <td>1</td>\n",
       "      <td>0.2260</td>\n",
       "      <td>0.45500</td>\n",
       "      <td>0.00201</td>\n",
       "      <td>0.127</td>\n",
       "      <td>0.518</td>\n",
       "      <td>94.974</td>\n",
       "      <td>135933</td>\n",
       "      <td>4</td>\n",
       "    </tr>\n",
       "    <tr>\n",
       "      <th>3</th>\n",
       "      <td>275637</td>\n",
       "      <td>Rilès</td>\n",
       "      <td>Understood</td>\n",
       "      <td>4sTDuXa8uGDHwJdsXUqIBo</td>\n",
       "      <td>45</td>\n",
       "      <td>2017</td>\n",
       "      <td>french</td>\n",
       "      <td>0.839</td>\n",
       "      <td>0.629</td>\n",
       "      <td>3</td>\n",
       "      <td>-5.663</td>\n",
       "      <td>0</td>\n",
       "      <td>0.1470</td>\n",
       "      <td>0.24100</td>\n",
       "      <td>0.00000</td>\n",
       "      <td>0.108</td>\n",
       "      <td>0.724</td>\n",
       "      <td>94.008</td>\n",
       "      <td>207772</td>\n",
       "      <td>4</td>\n",
       "    </tr>\n",
       "    <tr>\n",
       "      <th>4</th>\n",
       "      <td>337394</td>\n",
       "      <td>Ahmoudou Madassane</td>\n",
       "      <td>Zerzura Theme I</td>\n",
       "      <td>5wWACfP4ohUy8UST5slrag</td>\n",
       "      <td>23</td>\n",
       "      <td>2018</td>\n",
       "      <td>guitar</td>\n",
       "      <td>0.538</td>\n",
       "      <td>0.213</td>\n",
       "      <td>0</td>\n",
       "      <td>-12.785</td>\n",
       "      <td>1</td>\n",
       "      <td>0.0405</td>\n",
       "      <td>0.51100</td>\n",
       "      <td>0.13700</td>\n",
       "      <td>0.444</td>\n",
       "      <td>0.174</td>\n",
       "      <td>69.575</td>\n",
       "      <td>124902</td>\n",
       "      <td>4</td>\n",
       "    </tr>\n",
       "  </tbody>\n",
       "</table>\n",
       "</div>"
      ],
      "text/plain": [
       "   Unnamed: 0              artist_name  \\\n",
       "0      589408  Wolfgang Amadeus Mozart   \n",
       "1     1234899              Disko Punks   \n",
       "2     1325753           Robert Glasper   \n",
       "3      275637                    Rilès   \n",
       "4      337394       Ahmoudou Madassane   \n",
       "\n",
       "                                          track_name                track_id  \\\n",
       "0  Requiem, K. 626: VIII. Communio: Lux aeterna (...  7Hrce3SEZWI2WntmTas2Oe   \n",
       "1  Punk No Rocker - Muzic Loverz Rock It! Club Remix  3NCWsfcGWPCku2QYmteNBl   \n",
       "2                                               4eva  0vFGIXlsEajsNhGZXzKy3H   \n",
       "3                                         Understood  4sTDuXa8uGDHwJdsXUqIBo   \n",
       "4                                    Zerzura Theme I  5wWACfP4ohUy8UST5slrag   \n",
       "\n",
       "   popularity  year           genre  danceability  energy  key  loudness  \\\n",
       "0           0  2023       classical         0.241   0.288   10   -17.974   \n",
       "1           0  2008  minimal-techno         0.756   0.656    7    -9.571   \n",
       "2          14  2009            soul         0.726   0.430    1   -14.665   \n",
       "3          45  2017          french         0.839   0.629    3    -5.663   \n",
       "4          23  2018          guitar         0.538   0.213    0   -12.785   \n",
       "\n",
       "   mode  speechiness  acousticness  instrumentalness  liveness  valence  \\\n",
       "0     1       0.0360       0.97500           0.72600     0.086    0.117   \n",
       "1     1       0.1220       0.00287           0.35200     0.280    0.304   \n",
       "2     1       0.2260       0.45500           0.00201     0.127    0.518   \n",
       "3     0       0.1470       0.24100           0.00000     0.108    0.724   \n",
       "4     1       0.0405       0.51100           0.13700     0.444    0.174   \n",
       "\n",
       "     tempo  duration_ms  time_signature  \n",
       "0   96.389       324000               4  \n",
       "1  129.982       340400               4  \n",
       "2   94.974       135933               4  \n",
       "3   94.008       207772               4  \n",
       "4   69.575       124902               4  "
      ]
     },
     "execution_count": 19,
     "metadata": {},
     "output_type": "execute_result"
    }
   ],
   "source": [
    "spotify = pd.read_csv('reduced_spotify.csv')\n",
    "spotify.head()"
   ]
  },
  {
   "cell_type": "code",
   "execution_count": 20,
   "metadata": {},
   "outputs": [
    {
     "data": {
      "text/plain": [
       "(20000, 20)"
      ]
     },
     "execution_count": 20,
     "metadata": {},
     "output_type": "execute_result"
    }
   ],
   "source": [
    "spotify.shape"
   ]
  },
  {
   "cell_type": "code",
   "execution_count": 21,
   "metadata": {},
   "outputs": [
    {
     "data": {
      "text/plain": [
       "Unnamed: 0          0\n",
       "artist_name         0\n",
       "track_name          0\n",
       "track_id            0\n",
       "popularity          0\n",
       "year                0\n",
       "genre               0\n",
       "danceability        0\n",
       "energy              0\n",
       "key                 0\n",
       "loudness            0\n",
       "mode                0\n",
       "speechiness         0\n",
       "acousticness        0\n",
       "instrumentalness    0\n",
       "liveness            0\n",
       "valence             0\n",
       "tempo               0\n",
       "duration_ms         0\n",
       "time_signature      0\n",
       "dtype: int64"
      ]
     },
     "execution_count": 21,
     "metadata": {},
     "output_type": "execute_result"
    }
   ],
   "source": [
    "spotify.isna().sum()"
   ]
  },
  {
   "cell_type": "markdown",
   "metadata": {},
   "source": [
    "# 1. Preprocessing "
   ]
  },
  {
   "cell_type": "code",
   "execution_count": 22,
   "metadata": {},
   "outputs": [
    {
     "data": {
      "text/plain": [
       "(12497, 2)"
      ]
     },
     "execution_count": 22,
     "metadata": {},
     "output_type": "execute_result"
    }
   ],
   "source": [
    "grouped_df = spotify.groupby('artist_name')['track_name'].apply(list).reset_index()\n",
    "grouped_df.shape"
   ]
  },
  {
   "cell_type": "code",
   "execution_count": 23,
   "metadata": {},
   "outputs": [
    {
     "data": {
      "text/plain": [
       "count    20000.000000\n",
       "mean      5249.164100\n",
       "std       3578.421228\n",
       "min          0.000000\n",
       "25%       2097.000000\n",
       "50%       4761.500000\n",
       "75%       8160.250000\n",
       "max      12496.000000\n",
       "Name: artist_label, dtype: float64"
      ]
     },
     "execution_count": 23,
     "metadata": {},
     "output_type": "execute_result"
    }
   ],
   "source": [
    "#created a new encoded column that identifies each singer \n",
    "#motive, maybe if a singer is know it'll have more popularity\n",
    "spotify['artist_label'] = pd.factorize(spotify['artist_name'])[0]\n",
    "spotify['artist_label'].describe()"
   ]
  },
  {
   "cell_type": "code",
   "execution_count": 24,
   "metadata": {},
   "outputs": [
    {
     "data": {
      "text/plain": [
       "count    20000.000000\n",
       "mean         3.608300\n",
       "std          2.671409\n",
       "min          1.000000\n",
       "25%          2.000000\n",
       "50%          3.000000\n",
       "75%          5.000000\n",
       "max         32.000000\n",
       "Name: word_count_track, dtype: float64"
      ]
     },
     "execution_count": 24,
     "metadata": {},
     "output_type": "execute_result"
    }
   ],
   "source": [
    "#Maybe the shorter the name better popularity\n",
    "def count_words(text):\n",
    "    return len(text.split())\n",
    "\n",
    "# Create a new column 'word_count' with the total word count for each track name\n",
    "spotify['word_count_track'] = spotify['track_name'].apply(count_words)\n",
    "spotify['word_count_track'].describe()"
   ]
  },
  {
   "cell_type": "code",
   "execution_count": 25,
   "metadata": {},
   "outputs": [
    {
     "name": "stdout",
     "output_type": "stream",
     "text": [
      "82\n"
     ]
    }
   ],
   "source": [
    "print(spotify['genre'].nunique())\n",
    "encoder = LabelEncoder()\n",
    "spotify['genre_encoded'] = encoder.fit_transform(spotify['genre'])"
   ]
  },
  {
   "cell_type": "code",
   "execution_count": 26,
   "metadata": {},
   "outputs": [
    {
     "name": "stdout",
     "output_type": "stream",
     "text": [
      "   year  years_since_out\n",
      "0  2023                0\n",
      "1  2008               15\n",
      "2  2009               14\n",
      "3  2017                6\n",
      "4  2018                5\n"
     ]
    }
   ],
   "source": [
    "spotify['years_since_out'] = datetime.today().year - spotify.year \n",
    "# Print the result\n",
    "print(spotify[['year', 'years_since_out']].head())"
   ]
  },
  {
   "cell_type": "code",
   "execution_count": 27,
   "metadata": {},
   "outputs": [],
   "source": [
    "#Also drop the ones I don't think apport any value\n",
    "columns1 = ['track_id', 'Unnamed: 0']\n",
    "spotify = spotify.drop(columns1, axis=1)"
   ]
  },
  {
   "cell_type": "code",
   "execution_count": 28,
   "metadata": {},
   "outputs": [
    {
     "data": {
      "text/html": [
       "<div>\n",
       "<style scoped>\n",
       "    .dataframe tbody tr th:only-of-type {\n",
       "        vertical-align: middle;\n",
       "    }\n",
       "\n",
       "    .dataframe tbody tr th {\n",
       "        vertical-align: top;\n",
       "    }\n",
       "\n",
       "    .dataframe thead th {\n",
       "        text-align: right;\n",
       "    }\n",
       "</style>\n",
       "<table border=\"1\" class=\"dataframe\">\n",
       "  <thead>\n",
       "    <tr style=\"text-align: right;\">\n",
       "      <th></th>\n",
       "      <th>popularity</th>\n",
       "      <th>year</th>\n",
       "      <th>danceability</th>\n",
       "      <th>energy</th>\n",
       "      <th>key</th>\n",
       "      <th>loudness</th>\n",
       "      <th>mode</th>\n",
       "      <th>speechiness</th>\n",
       "      <th>acousticness</th>\n",
       "      <th>instrumentalness</th>\n",
       "      <th>liveness</th>\n",
       "      <th>valence</th>\n",
       "      <th>tempo</th>\n",
       "      <th>duration_ms</th>\n",
       "      <th>time_signature</th>\n",
       "      <th>artist_label</th>\n",
       "      <th>word_count_track</th>\n",
       "      <th>genre_encoded</th>\n",
       "      <th>years_since_out</th>\n",
       "    </tr>\n",
       "  </thead>\n",
       "  <tbody>\n",
       "    <tr>\n",
       "      <th>count</th>\n",
       "      <td>20000.000000</td>\n",
       "      <td>20000.000000</td>\n",
       "      <td>20000.000000</td>\n",
       "      <td>20000.000000</td>\n",
       "      <td>20000.000000</td>\n",
       "      <td>20000.000000</td>\n",
       "      <td>20000.000000</td>\n",
       "      <td>20000.000000</td>\n",
       "      <td>20000.000000</td>\n",
       "      <td>20000.000000</td>\n",
       "      <td>20000.000000</td>\n",
       "      <td>20000.00000</td>\n",
       "      <td>20000.000000</td>\n",
       "      <td>2.000000e+04</td>\n",
       "      <td>20000.000000</td>\n",
       "      <td>20000.000000</td>\n",
       "      <td>20000.000000</td>\n",
       "      <td>20000.00000</td>\n",
       "      <td>20000.000000</td>\n",
       "    </tr>\n",
       "    <tr>\n",
       "      <th>mean</th>\n",
       "      <td>18.369500</td>\n",
       "      <td>2011.912150</td>\n",
       "      <td>0.537815</td>\n",
       "      <td>0.640338</td>\n",
       "      <td>5.311800</td>\n",
       "      <td>-8.977230</td>\n",
       "      <td>0.631850</td>\n",
       "      <td>0.092952</td>\n",
       "      <td>0.321783</td>\n",
       "      <td>0.251428</td>\n",
       "      <td>0.223342</td>\n",
       "      <td>0.45614</td>\n",
       "      <td>121.730550</td>\n",
       "      <td>2.488846e+05</td>\n",
       "      <td>3.883950</td>\n",
       "      <td>5249.164100</td>\n",
       "      <td>3.608300</td>\n",
       "      <td>37.49675</td>\n",
       "      <td>11.087850</td>\n",
       "    </tr>\n",
       "    <tr>\n",
       "      <th>std</th>\n",
       "      <td>15.887913</td>\n",
       "      <td>6.798481</td>\n",
       "      <td>0.183878</td>\n",
       "      <td>0.270427</td>\n",
       "      <td>3.567901</td>\n",
       "      <td>5.682344</td>\n",
       "      <td>0.482314</td>\n",
       "      <td>0.127929</td>\n",
       "      <td>0.355666</td>\n",
       "      <td>0.364213</td>\n",
       "      <td>0.202409</td>\n",
       "      <td>0.26860</td>\n",
       "      <td>29.915336</td>\n",
       "      <td>1.541659e+05</td>\n",
       "      <td>0.484659</td>\n",
       "      <td>3578.421228</td>\n",
       "      <td>2.671409</td>\n",
       "      <td>23.67033</td>\n",
       "      <td>6.798481</td>\n",
       "    </tr>\n",
       "    <tr>\n",
       "      <th>min</th>\n",
       "      <td>0.000000</td>\n",
       "      <td>2000.000000</td>\n",
       "      <td>0.000000</td>\n",
       "      <td>0.000020</td>\n",
       "      <td>0.000000</td>\n",
       "      <td>-53.613000</td>\n",
       "      <td>0.000000</td>\n",
       "      <td>0.000000</td>\n",
       "      <td>0.000000</td>\n",
       "      <td>0.000000</td>\n",
       "      <td>0.000000</td>\n",
       "      <td>0.00000</td>\n",
       "      <td>0.000000</td>\n",
       "      <td>4.440000e+03</td>\n",
       "      <td>0.000000</td>\n",
       "      <td>0.000000</td>\n",
       "      <td>1.000000</td>\n",
       "      <td>0.00000</td>\n",
       "      <td>0.000000</td>\n",
       "    </tr>\n",
       "    <tr>\n",
       "      <th>25%</th>\n",
       "      <td>5.000000</td>\n",
       "      <td>2006.000000</td>\n",
       "      <td>0.415000</td>\n",
       "      <td>0.457000</td>\n",
       "      <td>2.000000</td>\n",
       "      <td>-10.775250</td>\n",
       "      <td>0.000000</td>\n",
       "      <td>0.037300</td>\n",
       "      <td>0.006570</td>\n",
       "      <td>0.000001</td>\n",
       "      <td>0.098300</td>\n",
       "      <td>0.22700</td>\n",
       "      <td>99.080500</td>\n",
       "      <td>1.812990e+05</td>\n",
       "      <td>4.000000</td>\n",
       "      <td>2097.000000</td>\n",
       "      <td>2.000000</td>\n",
       "      <td>16.00000</td>\n",
       "      <td>5.000000</td>\n",
       "    </tr>\n",
       "    <tr>\n",
       "      <th>50%</th>\n",
       "      <td>15.000000</td>\n",
       "      <td>2012.000000</td>\n",
       "      <td>0.551000</td>\n",
       "      <td>0.694000</td>\n",
       "      <td>5.000000</td>\n",
       "      <td>-7.461000</td>\n",
       "      <td>1.000000</td>\n",
       "      <td>0.051100</td>\n",
       "      <td>0.145000</td>\n",
       "      <td>0.001520</td>\n",
       "      <td>0.134000</td>\n",
       "      <td>0.43900</td>\n",
       "      <td>122.025000</td>\n",
       "      <td>2.248200e+05</td>\n",
       "      <td>4.000000</td>\n",
       "      <td>4761.500000</td>\n",
       "      <td>3.000000</td>\n",
       "      <td>35.00000</td>\n",
       "      <td>11.000000</td>\n",
       "    </tr>\n",
       "    <tr>\n",
       "      <th>75%</th>\n",
       "      <td>29.000000</td>\n",
       "      <td>2018.000000</td>\n",
       "      <td>0.676000</td>\n",
       "      <td>0.872000</td>\n",
       "      <td>9.000000</td>\n",
       "      <td>-5.291000</td>\n",
       "      <td>1.000000</td>\n",
       "      <td>0.089300</td>\n",
       "      <td>0.642000</td>\n",
       "      <td>0.603000</td>\n",
       "      <td>0.292000</td>\n",
       "      <td>0.67400</td>\n",
       "      <td>139.986250</td>\n",
       "      <td>2.849882e+05</td>\n",
       "      <td>4.000000</td>\n",
       "      <td>8160.250000</td>\n",
       "      <td>5.000000</td>\n",
       "      <td>57.00000</td>\n",
       "      <td>17.000000</td>\n",
       "    </tr>\n",
       "    <tr>\n",
       "      <th>max</th>\n",
       "      <td>90.000000</td>\n",
       "      <td>2023.000000</td>\n",
       "      <td>0.979000</td>\n",
       "      <td>1.000000</td>\n",
       "      <td>11.000000</td>\n",
       "      <td>2.276000</td>\n",
       "      <td>1.000000</td>\n",
       "      <td>0.968000</td>\n",
       "      <td>0.996000</td>\n",
       "      <td>0.998000</td>\n",
       "      <td>0.996000</td>\n",
       "      <td>0.99100</td>\n",
       "      <td>247.337000</td>\n",
       "      <td>6.000061e+06</td>\n",
       "      <td>5.000000</td>\n",
       "      <td>12496.000000</td>\n",
       "      <td>32.000000</td>\n",
       "      <td>81.00000</td>\n",
       "      <td>23.000000</td>\n",
       "    </tr>\n",
       "  </tbody>\n",
       "</table>\n",
       "</div>"
      ],
      "text/plain": [
       "         popularity          year  danceability        energy           key  \\\n",
       "count  20000.000000  20000.000000  20000.000000  20000.000000  20000.000000   \n",
       "mean      18.369500   2011.912150      0.537815      0.640338      5.311800   \n",
       "std       15.887913      6.798481      0.183878      0.270427      3.567901   \n",
       "min        0.000000   2000.000000      0.000000      0.000020      0.000000   \n",
       "25%        5.000000   2006.000000      0.415000      0.457000      2.000000   \n",
       "50%       15.000000   2012.000000      0.551000      0.694000      5.000000   \n",
       "75%       29.000000   2018.000000      0.676000      0.872000      9.000000   \n",
       "max       90.000000   2023.000000      0.979000      1.000000     11.000000   \n",
       "\n",
       "           loudness          mode   speechiness  acousticness  \\\n",
       "count  20000.000000  20000.000000  20000.000000  20000.000000   \n",
       "mean      -8.977230      0.631850      0.092952      0.321783   \n",
       "std        5.682344      0.482314      0.127929      0.355666   \n",
       "min      -53.613000      0.000000      0.000000      0.000000   \n",
       "25%      -10.775250      0.000000      0.037300      0.006570   \n",
       "50%       -7.461000      1.000000      0.051100      0.145000   \n",
       "75%       -5.291000      1.000000      0.089300      0.642000   \n",
       "max        2.276000      1.000000      0.968000      0.996000   \n",
       "\n",
       "       instrumentalness      liveness      valence         tempo  \\\n",
       "count      20000.000000  20000.000000  20000.00000  20000.000000   \n",
       "mean           0.251428      0.223342      0.45614    121.730550   \n",
       "std            0.364213      0.202409      0.26860     29.915336   \n",
       "min            0.000000      0.000000      0.00000      0.000000   \n",
       "25%            0.000001      0.098300      0.22700     99.080500   \n",
       "50%            0.001520      0.134000      0.43900    122.025000   \n",
       "75%            0.603000      0.292000      0.67400    139.986250   \n",
       "max            0.998000      0.996000      0.99100    247.337000   \n",
       "\n",
       "        duration_ms  time_signature  artist_label  word_count_track  \\\n",
       "count  2.000000e+04    20000.000000  20000.000000      20000.000000   \n",
       "mean   2.488846e+05        3.883950   5249.164100          3.608300   \n",
       "std    1.541659e+05        0.484659   3578.421228          2.671409   \n",
       "min    4.440000e+03        0.000000      0.000000          1.000000   \n",
       "25%    1.812990e+05        4.000000   2097.000000          2.000000   \n",
       "50%    2.248200e+05        4.000000   4761.500000          3.000000   \n",
       "75%    2.849882e+05        4.000000   8160.250000          5.000000   \n",
       "max    6.000061e+06        5.000000  12496.000000         32.000000   \n",
       "\n",
       "       genre_encoded  years_since_out  \n",
       "count    20000.00000     20000.000000  \n",
       "mean        37.49675        11.087850  \n",
       "std         23.67033         6.798481  \n",
       "min          0.00000         0.000000  \n",
       "25%         16.00000         5.000000  \n",
       "50%         35.00000        11.000000  \n",
       "75%         57.00000        17.000000  \n",
       "max         81.00000        23.000000  "
      ]
     },
     "execution_count": 28,
     "metadata": {},
     "output_type": "execute_result"
    }
   ],
   "source": [
    "spotify.describe()"
   ]
  },
  {
   "cell_type": "markdown",
   "metadata": {},
   "source": [
    "# 2. Feature creation"
   ]
  },
  {
   "cell_type": "code",
   "execution_count": 29,
   "metadata": {},
   "outputs": [
    {
     "data": {
      "text/plain": [
       "0    0\n",
       "1    0\n",
       "2    0\n",
       "3    0\n",
       "4    0\n",
       "Name: party_song, dtype: int64"
      ]
     },
     "execution_count": 29,
     "metadata": {},
     "output_type": "execute_result"
    }
   ],
   "source": [
    "spotify['party_song'] = ((spotify['danceability'] > 0.5) & (spotify['energy'] > 0.5) & (spotify['loudness'] < -10) & (spotify['liveness'] > 0.5))\n",
    "spotify['party_song'] = encoder.fit_transform(spotify['party_song'])\n",
    "spotify['party_song'].head()"
   ]
  },
  {
   "cell_type": "code",
   "execution_count": 30,
   "metadata": {},
   "outputs": [
    {
     "name": "stdout",
     "output_type": "stream",
     "text": [
      "2\n"
     ]
    }
   ],
   "source": [
    "print(spotify['party_song'].nunique())"
   ]
  },
  {
   "cell_type": "markdown",
   "metadata": {},
   "source": [
    "# 3. Split or cross validation"
   ]
  },
  {
   "cell_type": "code",
   "execution_count": null,
   "metadata": {},
   "outputs": [],
   "source": []
  },
  {
   "cell_type": "markdown",
   "metadata": {},
   "source": [
    "# 4. Train model and generate predictions"
   ]
  },
  {
   "cell_type": "code",
   "execution_count": null,
   "metadata": {},
   "outputs": [],
   "source": []
  },
  {
   "cell_type": "markdown",
   "metadata": {},
   "source": [
    "# 5. Hyperparameter tuning and choose the best set of hyperparameters."
   ]
  },
  {
   "cell_type": "markdown",
   "metadata": {},
   "source": [
    "# 6.Model’s performance on a set of metrics."
   ]
  }
 ],
 "metadata": {
  "kernelspec": {
   "display_name": "base",
   "language": "python",
   "name": "python3"
  },
  "language_info": {
   "codemirror_mode": {
    "name": "ipython",
    "version": 3
   },
   "file_extension": ".py",
   "mimetype": "text/x-python",
   "name": "python",
   "nbconvert_exporter": "python",
   "pygments_lexer": "ipython3",
   "version": "3.11.4"
  }
 },
 "nbformat": 4,
 "nbformat_minor": 2
}
