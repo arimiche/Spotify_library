{
 "cells": [
  {
   "cell_type": "markdown",
   "metadata": {},
   "source": [
    "# Pipeline to predict popularity of a song on spotify based on 2022 data"
   ]
  },
  {
   "cell_type": "code",
   "execution_count": 1,
   "metadata": {},
   "outputs": [],
   "source": [
    "import sys\n",
    "sys.path.append(r'C:\\Users\\bakwe\\Documents\\GitHub\\Git extra\\Final_project_Arianna_Vanessa_Tatiana\\spotify_library')\n",
    "import spotify_library \n",
    "from spotify_library.features.data_loading import *\n",
    "from spotify_library.features.data_preprocessing import *\n",
    "from spotify_library.features.data_splitting import *\n",
    "from spotify_library.features.feature_engineering import *"
   ]
  },
  {
   "cell_type": "code",
   "execution_count": 2,
   "metadata": {},
   "outputs": [],
   "source": [
    "# load the spotify data of 2022 as df\n",
    "df = loaddata(r'C:\\Users\\bakwe\\Documents\\GitHub\\Git extra\\Final_project_Arianna_Vanessa_Tatiana/reduced_spotify_2022.csv')"
   ]
  },
  {
   "cell_type": "code",
   "execution_count": 3,
   "metadata": {},
   "outputs": [
    {
     "name": "stdout",
     "output_type": "stream",
     "text": [
      "Dataframe has 20 columns.\n",
      "There are 0 columns that have missing values.\n"
     ]
    }
   ],
   "source": [
    "# check missing values\n",
    "missing_data = missing_values(data = df).missing_values_table()"
   ]
  },
  {
   "cell_type": "code",
   "execution_count": 4,
   "metadata": {},
   "outputs": [],
   "source": [
    "# drop unnecessary columns: track_id and Unnamed: 0\n",
    "df = drop(data = df, columns_to_drop=['track_id', 'Unnamed: 0']).drop_columns()"
   ]
  },
  {
   "cell_type": "code",
   "execution_count": 5,
   "metadata": {},
   "outputs": [],
   "source": [
    "# transform column duration_ms to a column where the duration is in minutes\n",
    "df = transform_columns(df, 'duration_ms').transform_ms_to_minutes()"
   ]
  },
  {
   "cell_type": "code",
   "execution_count": 6,
   "metadata": {},
   "outputs": [],
   "source": [
    "# # to consider the effect of certain keywords in the trackname on the popularity, binary columns for given keywords are created \n",
    "# df = create_binary_columns_for_keywords(df, 'track_name')"
   ]
  },
  {
   "cell_type": "code",
   "execution_count": 7,
   "metadata": {},
   "outputs": [],
   "source": [
    "# # because of the assumption that popularity is higher when the songs are also played in bars and clubs a variable will be invented: party_music\n",
    "# df = add_party_music_column(df)"
   ]
  }
 ],
 "metadata": {
  "kernelspec": {
   "display_name": "Python 3",
   "language": "python",
   "name": "python3"
  },
  "language_info": {
   "codemirror_mode": {
    "name": "ipython",
    "version": 3
   },
   "file_extension": ".py",
   "mimetype": "text/x-python",
   "name": "python",
   "nbconvert_exporter": "python",
   "pygments_lexer": "ipython3",
   "version": "3.9.0"
  }
 },
 "nbformat": 4,
 "nbformat_minor": 2
}
