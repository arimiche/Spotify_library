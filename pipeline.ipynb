{
 "cells": [
  {
   "cell_type": "markdown",
   "metadata": {},
   "source": [
    "# Pipeline tp predict popularity of a song on spotify based on 2022 data"
   ]
  },
  {
   "cell_type": "code",
   "execution_count": null,
   "metadata": {},
   "outputs": [],
   "source": [
    "# load the data as df\n",
    "df = loaddata(r'C:\\Users\\vanes\\Git_repositories\\HW3\\sample_diabetes_mellitus_data.csv')"
   ]
  },
  {
   "cell_type": "code",
   "execution_count": null,
   "metadata": {},
   "outputs": [],
   "source": [
    "# drop unnecessary columns: track_id and Unnamed: 0\n",
    "df = drop(data = df, columns_to_drop=['track_id', 'Unnamed: 0']).drop_columns()"
   ]
  },
  {
   "cell_type": "code",
   "execution_count": null,
   "metadata": {},
   "outputs": [],
   "source": [
    "# transform column duration_ms to a column where the duration is in minutes\n",
    "df = transform_columns(df, 'duration_ms').transform_ms_to_minutes()"
   ]
  }
 ],
 "metadata": {
  "language_info": {
   "name": "python"
  }
 },
 "nbformat": 4,
 "nbformat_minor": 2
}
